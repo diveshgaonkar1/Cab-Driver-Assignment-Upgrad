{
 "cells": [
  {
   "cell_type": "markdown",
   "metadata": {},
   "source": [
    "#### Import Libraries"
   ]
  },
  {
   "cell_type": "code",
   "execution_count": 2,
   "metadata": {},
   "outputs": [
    {
     "name": "stderr",
     "output_type": "stream",
     "text": [
      "Using TensorFlow backend.\n",
      "/mnt/disks/user/anaconda3/lib/python3.6/site-packages/tensorflow/python/framework/dtypes.py:523: FutureWarning: Passing (type, 1) or '1type' as a synonym of type is deprecated; in a future version of numpy, it will be understood as (type, (1,)) / '(1,)type'.\n",
      "  _np_qint8 = np.dtype([(\"qint8\", np.int8, 1)])\n",
      "/mnt/disks/user/anaconda3/lib/python3.6/site-packages/tensorflow/python/framework/dtypes.py:524: FutureWarning: Passing (type, 1) or '1type' as a synonym of type is deprecated; in a future version of numpy, it will be understood as (type, (1,)) / '(1,)type'.\n",
      "  _np_quint8 = np.dtype([(\"quint8\", np.uint8, 1)])\n",
      "/mnt/disks/user/anaconda3/lib/python3.6/site-packages/tensorflow/python/framework/dtypes.py:525: FutureWarning: Passing (type, 1) or '1type' as a synonym of type is deprecated; in a future version of numpy, it will be understood as (type, (1,)) / '(1,)type'.\n",
      "  _np_qint16 = np.dtype([(\"qint16\", np.int16, 1)])\n",
      "/mnt/disks/user/anaconda3/lib/python3.6/site-packages/tensorflow/python/framework/dtypes.py:526: FutureWarning: Passing (type, 1) or '1type' as a synonym of type is deprecated; in a future version of numpy, it will be understood as (type, (1,)) / '(1,)type'.\n",
      "  _np_quint16 = np.dtype([(\"quint16\", np.uint16, 1)])\n",
      "/mnt/disks/user/anaconda3/lib/python3.6/site-packages/tensorflow/python/framework/dtypes.py:527: FutureWarning: Passing (type, 1) or '1type' as a synonym of type is deprecated; in a future version of numpy, it will be understood as (type, (1,)) / '(1,)type'.\n",
      "  _np_qint32 = np.dtype([(\"qint32\", np.int32, 1)])\n",
      "/mnt/disks/user/anaconda3/lib/python3.6/site-packages/tensorflow/python/framework/dtypes.py:532: FutureWarning: Passing (type, 1) or '1type' as a synonym of type is deprecated; in a future version of numpy, it will be understood as (type, (1,)) / '(1,)type'.\n",
      "  np_resource = np.dtype([(\"resource\", np.ubyte, 1)])\n"
     ]
    }
   ],
   "source": [
    "#Importing libraries\n",
    "import numpy as np\n",
    "import random\n",
    "import math\n",
    "from collections import deque\n",
    "import collections\n",
    "import pickle\n",
    "\n",
    "from keras import layers\n",
    "from keras import Sequential\n",
    "from keras.layers import Dense, Activation, Flatten\n",
    "from keras.optimizers import Adam\n",
    "\n",
    "import matplotlib.pyplot as plt"
   ]
  },
  {
   "cell_type": "markdown",
   "metadata": {},
   "source": [
    "#### Import Environment"
   ]
  },
  {
   "cell_type": "code",
   "execution_count": 3,
   "metadata": {},
   "outputs": [],
   "source": [
    "#Import the environment\n",
    "from Env import CabDriver"
   ]
  },
  {
   "cell_type": "markdown",
   "metadata": {},
   "source": [
    "#### Load the Time Matrix"
   ]
  },
  {
   "cell_type": "code",
   "execution_count": 4,
   "metadata": {},
   "outputs": [],
   "source": [
    "#Loading the time matrix provided\n",
    "Time_matrix = np.load(\"TM.npy\")"
   ]
  },
  {
   "cell_type": "markdown",
   "metadata": {},
   "source": [
    "#### Tracking the state-action pairs for checking convergence\n"
   ]
  },
  {
   "cell_type": "code",
   "execution_count": 5,
   "metadata": {},
   "outputs": [],
   "source": [
    "#Defining a function to save the Q-dictionary as a pickle file\n",
    "def save_obj(obj, name ):\n",
    "    with open(name + '.pkl', 'wb') as f:\n",
    "        pickle.dump(obj, f, pickle.HIGHEST_PROTOCOL)"
   ]
  },
  {
   "cell_type": "code",
   "execution_count": 6,
   "metadata": {},
   "outputs": [],
   "source": [
    "#Defining a function to return the state as state encoding as string\n",
    "def encode_state(lst):\n",
    "    finaloutput=''\n",
    "    for item in lst:\n",
    "        if type(item)!=str:\n",
    "            finaloutput+=str(int(item))\n",
    "        else:\n",
    "            finaloutput+=str(item)\n",
    "    return finaloutput"
   ]
  },
  {
   "cell_type": "code",
   "execution_count": 7,
   "metadata": {},
   "outputs": [],
   "source": [
    "#Create states tracking dictionary\n",
    "States_track = collections.defaultdict(dict)"
   ]
  },
  {
   "cell_type": "code",
   "execution_count": 8,
   "metadata": {},
   "outputs": [],
   "source": [
    "#Initializing with default states to be tracked\n",
    "def initialise_tracking_states():\n",
    "    sample_q_values = [\n",
    "                   (0,1,0,0,0,0,0,0,0,0,0,0,0,0,1,0,0,0,0,0,0,0,0,0,0,0,0,0,0,1,0,0,0,0,0,0),\n",
    "                   (0,0,0,1,0,0,0,0,0,1,0,0,0,0,0,0,0,0,0,0,0,0,0,0,0,0,0,0,0,0,1,0,0,0,0,0),\n",
    "                   (0,0,1,0,0,0,0,0,1,0,0,0,0,0,0,0,0,0,0,0,0,0,0,0,0,0,0,0,0,0,0,0,1,0,0,0),\n",
    "                   (1,0,0,0,0,0,0,0,0,0,0,0,0,0,0,0,0,0,0,0,0,0,1,0,0,0,0,0,0,0,0,0,0,0,0,1)]  \n",
    "    for q_values in sample_q_values:\n",
    "        state=encode_state(q_values)\n",
    "        States_track[state]= []"
   ]
  },
  {
   "cell_type": "code",
   "execution_count": 9,
   "metadata": {},
   "outputs": [],
   "source": [
    "#Call to initialize states tracking\n",
    "initialise_tracking_states()"
   ]
  },
  {
   "cell_type": "code",
   "execution_count": 10,
   "metadata": {},
   "outputs": [
    {
     "data": {
      "text/plain": [
       "defaultdict(dict,\n",
       "            {'010000000000001000000000000001000000': [],\n",
       "             '000100000100000000000000000000100000': [],\n",
       "             '001000001000000000000000000000001000': [],\n",
       "             '100000000000000000000010000000000001': []})"
      ]
     },
     "execution_count": 10,
     "metadata": {},
     "output_type": "execute_result"
    }
   ],
   "source": [
    "#Check the states gtracking dictionatry\n",
    "States_track"
   ]
  },
  {
   "cell_type": "markdown",
   "metadata": {},
   "source": [
    "#### Agent Class\n",
    "\n",
    "If you are using this framework, you need to fill the following to complete the following code block:\n",
    "1. State and Action Size\n",
    "2. Hyperparameters\n",
    "3. Create a neural-network model in function 'build_model()'\n",
    "4. Define epsilon-greedy strategy in function 'get_action()'\n",
    "5. Complete the function 'append_sample()'. This function appends the recent experience tuple <state, action, reward, new-state> to the memory\n",
    "6. Complete the 'train_model()' function with following logic:\n",
    "   - If the memory size is greater than mini-batch size, you randomly sample experiences from memory as per the mini-batch size and do the following:\n",
    "      - Initialise your input and output batch for training the model\n",
    "      - Calculate the target Q value for each sample: reward + gamma*max(Q(s'a,))\n",
    "      - Get Q(s', a) values from the last trained model\n",
    "      - Update the input batch as your encoded state and output batch as your Q-values\n",
    "      - Then fit your DQN model using the updated input and output batch."
   ]
  },
  {
   "cell_type": "code",
   "execution_count": 11,
   "metadata": {},
   "outputs": [],
   "source": [
    "class DQNAgent:\n",
    "    \n",
    "    #Initializing variables and hyper-parameters\n",
    "    def __init__(self, state_size, action_size):\n",
    "        self.state_size = state_size       #Define size of state\n",
    "        self.action_size = action_size     #Define size of action\n",
    "        self.track_loss=[]                 #Tracking the loss\n",
    "\n",
    "        #Hyper-parameters for the DQN\n",
    "        self.discount_factor = 0.95\n",
    "        self.learning_rate = 0.01 \n",
    "        self.epsilon_max = 1.0\n",
    "        self.epsilon_decay = 0.0003\n",
    "        self.epsilon_min = 0.000001\n",
    "        self.batch_size = 32 \n",
    "        self.memory = deque(maxlen=2000)   #Replay memory using deque\n",
    "        self.model = self.build_model()    #Main model and target model\n",
    "\n",
    "        \n",
    "    #Defining approximate Q function using Neural Network\n",
    "    def build_model(self):\n",
    "        \n",
    "        #Define sequential model\n",
    "        model = Sequential()    \n",
    "      \n",
    "        #Set the hidden layers\n",
    "        model.add(Dense(32, input_dim=self.state_size, activation='relu', kernel_initializer='he_uniform'))\n",
    "        model.add(Dense(32, activation='relu', kernel_initializer='he_uniform'))\n",
    "        \n",
    "        #Set the output layer: size = num_actions in this case 20\n",
    "        model.add(Dense(self.action_size, activation='linear', kernel_initializer='he_uniform'))\n",
    "        \n",
    "        #Compile model\n",
    "        model.compile(loss='mse',optimizer=Adam(lr=self.learning_rate))\n",
    "        model.summary\n",
    "        return model\n",
    "\n",
    "    #Pick samples randomly from replay memory (with batch_size) and train the network\n",
    "    def train_model(self):\n",
    "        if len(self.memory) > self.batch_size:\n",
    "            \n",
    "            #Random sample batch from the memory\n",
    "            mini_batch = random.sample(self.memory, self.batch_size)\n",
    "            update_output = np.zeros((self.batch_size, self.state_size))\n",
    "            update_input = np.zeros((self.batch_size, self.state_size))\n",
    "\n",
    "            actions, rewards, done = [], [],[]\n",
    "            \n",
    "            #Loop throught each data point in the batch\n",
    "            for i in range(self.batch_size):\n",
    "                state, action, reward, next_state,done_boolean = mini_batch[i]\n",
    "                update_input[i] = state\n",
    "                actions.append(action)\n",
    "                rewards.append(reward)\n",
    "                update_output[i] = next_state\n",
    "                done.append(done_boolean)\n",
    "\n",
    "            #Predict the target from earlier model\n",
    "            target = self.model.predict(update_input)\n",
    "\n",
    "            #Get the target for the Q-network\n",
    "            target_qval = self.model.predict(update_output)\n",
    "        \n",
    "            #Updating 'update_output' and 'update_input' batch\n",
    "            for i in range(self.batch_size):\n",
    "                if done[i]:\n",
    "                    target[i][actions[i]] = rewards[i]\n",
    "                else: \n",
    "                    # non-terminal state\n",
    "                    target[i][actions[i]] = rewards[i] + self.discount_factor * np.max(target_qval[i]) #DQ formula\n",
    "          \n",
    "                #Saving the Q values for states tracked\n",
    "                state_key=encode_state(update_input[i])\n",
    "                if state_key in States_track.keys():\n",
    "                    States_track[state_key].append(target[i])\n",
    "        \n",
    "            #Fitting the model and tracking the loss values\n",
    "            history=self.model.fit(update_input, target, batch_size=self.batch_size, epochs=1, verbose=0)\n",
    "            self.track_loss.append(history.history['loss'])\n",
    "\n",
    "\n",
    "    #Getthe model weights\n",
    "    def get_model_weights(self):\n",
    "        return self.model.get_weights()\n",
    "    \n",
    "    #Deduce the action either by exploration or exploitation\n",
    "    def get_action(self, state,request_actions):\n",
    "      # get action from model using epsilon-greedy policy\n",
    "        if np.random.rand() <= self.epsilon_max:   # Decay in ε after we generate each sample from the environment\n",
    "            return request_actions[random.randrange(len(request_actions))]\n",
    "        else:\n",
    "          # choose the action with the highest q(s, a)\n",
    "          # the first index corresponds to the batch size, so\n",
    "          # reshape state to (1, state_size) so that the first index corresponds to the batch size\n",
    "            state = state.reshape(1, self.state_size)\n",
    "            q_value = self.model.predict(state)\n",
    "            return np.argmax(q_value)    \n",
    "\n",
    "    #Save sample <s,a,r,s',done> to the replay memory\n",
    "    def append_sample(self, state, action, reward, next_state,done):\n",
    "        self.memory.append((state, action, reward, next_state,done))    \n",
    "        \n",
    "        \n",
    "    #Save the model\n",
    "    def save(self ,name):\n",
    "        self.model.save(name)"
   ]
  },
  {
   "cell_type": "code",
   "execution_count": 12,
   "metadata": {},
   "outputs": [],
   "source": [
    "#Define the episodes\n",
    "Episodes=15000\n",
    "\n",
    "#Set the environment\n",
    "env=CabDriver()\n",
    "\n",
    "#Call the DQN agent and compute rewards\n",
    "agent=DQNAgent(state_size=env.state_size,action_size=env.action_size)\n",
    "rewards_per_episode, episodes = [], []"
   ]
  },
  {
   "cell_type": "markdown",
   "metadata": {},
   "source": [
    "#### DQN block"
   ]
  },
  {
   "cell_type": "code",
   "execution_count": 13,
   "metadata": {},
   "outputs": [
    {
     "name": "stdout",
     "output_type": "stream",
     "text": [
      "episode 999, reward 57.0, memory_length 2000, epsilon 0.6068343940374606\n",
      "episode 1999, reward 5408.0, memory_length 2000, epsilon 0.13547155073936643\n",
      "episode 2999, reward 6305.0, memory_length 2000, epsilon 0.011126661411249421\n",
      "episode 3999, reward 6265.0, memory_length 2000, epsilon 0.0003371338883968558\n",
      "episode 4999, reward 6334.0, memory_length 2000, epsilon 4.735977724529479e-06\n",
      "episode 5999, reward 6334.0, memory_length 2000, epsilon 1.0152757230117051e-06\n",
      "episode 6999, reward 6334.0, memory_length 2000, epsilon 1.0000229776066086e-06\n",
      "episode 7999, reward 6334.0, memory_length 2000, epsilon 1.0000000127149113e-06\n",
      "episode 8999, reward 6334.0, memory_length 2000, epsilon 1.0000000000025885e-06\n",
      "episode 9999, reward 6334.0, memory_length 2000, epsilon 1.0000000000000105e-06\n",
      "episode 10999, reward 6334.0, memory_length 2000, epsilon 1.0000000000000095e-06\n",
      "episode 11999, reward 6334.0, memory_length 2000, epsilon 1.0000000000000086e-06\n",
      "episode 12999, reward 6334.0, memory_length 2000, epsilon 1.000000000000008e-06\n",
      "episode 13999, reward 6334.0, memory_length 2000, epsilon 1.0000000000000074e-06\n",
      "episode 14999, reward 6334.0, memory_length 2000, epsilon 1.000000000000007e-06\n"
     ]
    }
   ],
   "source": [
    "#Loop through each episode\n",
    "import time\n",
    "start_time = time.time()\n",
    "\n",
    "for episode in range(Episodes):\n",
    "    terminal_state=False\n",
    "    score=0\n",
    "    env_initalized=env.reset()\n",
    "    state=env_initalized[2]\n",
    "    \n",
    "    while not terminal_state:\n",
    "        request_actions=env.requests(state)\n",
    "        next_action=agent.get_action(env.state_encod_arch1(state),request_actions) \n",
    "        next_state,action,reward,is_done=env.next_state_func(state,next_action,Time_matrix)\n",
    "        if action[0]!=0 and action[1]!=0:\n",
    "            agent.append_sample(env.state_encod_arch1(state),env.action_space.index(action),reward,env.state_encod_arch1(next_state),is_done)\n",
    "            \n",
    "            #Train the model by calling function agent.train_model\n",
    "            agent.train_model()\n",
    "            \n",
    "            #Keep a track of rewards, Q-values, loss\n",
    "            score+=reward\n",
    "        \n",
    "        #Assinging state with next_state\n",
    "        state=next_state\n",
    "        terminal_state=is_done\n",
    "    \n",
    "    rewards_per_episode.append(score)\n",
    "    episodes.append(episode)\n",
    "    \n",
    "    #Update the epsilon value for action selection\n",
    "    if agent.epsilon_max > agent.epsilon_min:\n",
    "        agent.epsilon_max=agent.epsilon_min+(agent.epsilon_max-agent.epsilon_min)*np.exp(-0.000001*episode)\n",
    "    \n",
    "    #Save the model\n",
    "    if (episode+1) %1000 == 0:\n",
    "        save_obj(agent.get_model_weights(), 'weights_per_'+str(episode+1)+'_epiosde')\n",
    "        agent.save(name=\"SuperCabs_DQN_model.h5\")\n",
    "        print(\"episode {0}, reward {1}, memory_length {2}, epsilon {3}\".format(episode,score,len(agent.memory),agent.epsilon_max))"
   ]
  },
  {
   "cell_type": "code",
   "execution_count": 14,
   "metadata": {},
   "outputs": [
    {
     "name": "stdout",
     "output_type": "stream",
     "text": [
      "Total execution time 189.0 Minutes.\n"
     ]
    }
   ],
   "source": [
    "#Compute time taken for execution\n",
    "elapsed_time = time.time() - start_time\n",
    "print('Total execution time', round((elapsed_time/60),0), 'Minutes.')"
   ]
  },
  {
   "cell_type": "code",
   "execution_count": 15,
   "metadata": {},
   "outputs": [],
   "source": [
    "#Save the rewards\n",
    "save_obj(rewards_per_episode,\"rewards_final\")"
   ]
  },
  {
   "cell_type": "code",
   "execution_count": 16,
   "metadata": {},
   "outputs": [],
   "source": [
    "#Save the states tracked\n",
    "save_obj(States_track,\"States Tracked\")\n",
    "state_keys=list(States_track.keys())"
   ]
  },
  {
   "cell_type": "markdown",
   "metadata": {},
   "source": [
    "#### Tracking Convergence"
   ]
  },
  {
   "cell_type": "code",
   "execution_count": 17,
   "metadata": {},
   "outputs": [],
   "source": [
    "#Load the rewards file to check convergence\n",
    "with open('rewards_final.pkl', 'rb') as f:\n",
    "    rewards_per_episode = pickle.load(f)"
   ]
  },
  {
   "cell_type": "code",
   "execution_count": 18,
   "metadata": {},
   "outputs": [
    {
     "data": {
      "image/png": "[encoded data removed]",
      "text/plain": [
       "<Figure size 432x288 with 1 Axes>"
      ]
     },
     "metadata": {},
     "output_type": "display_data"
    }
   ],
   "source": [
    "#Plot the convergence\n",
    "plt.plot(list(range(len(rewards_per_episode))), rewards_per_episode)\n",
    "plt.xlabel(\"Number of Episodes\")\n",
    "plt.ylabel(\"Reward for each Episode\")\n",
    "#plt.yscale('log')\n",
    "plt.show()"
   ]
  },
  {
   "cell_type": "code",
   "execution_count": 19,
   "metadata": {},
   "outputs": [
    {
     "data": {
      "image/png": "[encoded data removed]",
      "text/plain": [
       "<Figure size 432x288 with 1 Axes>"
      ]
     },
     "metadata": {},
     "output_type": "display_data"
    }
   ],
   "source": [
    "#Sample epsilon decay expression\n",
    "time = np.arange(0,10000)\n",
    "epsilon = []\n",
    "for i in range(0,10000):\n",
    "    epsilon.append(0 + (1 - 0) * np.exp(-0.0009*i))\n",
    "\n",
    "plt.plot(time, epsilon)\n",
    "plt.show()    "
   ]
  },
  {
   "cell_type": "markdown",
   "metadata": {},
   "source": [
    " "
   ]
  }
 ],
 "metadata": {
  "kernelspec": {
   "display_name": "Python 3",
   "language": "python",
   "name": "python3"
  },
  "language_info": {
   "codemirror_mode": {
    "name": "ipython",
    "version": 3
   },
   "file_extension": ".py",
   "mimetype": "text/x-python",
   "name": "python",
   "nbconvert_exporter": "python",
   "pygments_lexer": "ipython3",
   "version": "3.7.6"
  }
 },
 "nbformat": 4,
 "nbformat_minor": 2
}
